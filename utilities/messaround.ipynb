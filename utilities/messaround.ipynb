{
 "cells": [
  {
   "cell_type": "code",
   "execution_count": 11,
   "metadata": {},
   "outputs": [],
   "source": [
    "import requests\n",
    "import time\n",
    "import csv\n",
    "import os\n",
    "import pandas as pd\n",
    "from bs4 import BeautifulSoup\n"
   ]
  },
  {
   "cell_type": "code",
   "execution_count": 62,
   "metadata": {},
   "outputs": [],
   "source": [
    "r = requests.get('https://www.pro-football-reference.com/players/A/AbduKa00.htm')\n",
    "time.sleep(.04)\n",
    "soup = BeautifulSoup(r.content, \"lxml\")"
   ]
  },
  {
   "cell_type": "code",
   "execution_count": 63,
   "metadata": {
    "collapsed": true
   },
   "outputs": [],
   "source": [
    "rush_rec_table_list = soup.find_all(\"div\", {\"id\": \"div_rushing_and_receiving\"})\n",
    "\n",
    "if len(rush_rec_table_list) == 0:\n",
    "    # either make a bunch of 0s or TBD\n",
    "    pass\n",
    "else:\n",
    "# there should only be one       \n",
    "# now get all of the shit\n",
    "    rush_rec_table = rush_rec_table_list[0]\n",
    "    \n",
    "    #for row in rush_rec_table.find_all(\"tr\"):\n",
    "    #    print(row)\n",
    "\n",
    "\n",
    "\n"
   ]
  },
  {
   "cell_type": "code",
   "execution_count": null,
   "metadata": {},
   "outputs": [],
   "source": []
  },
  {
   "cell_type": "code",
   "execution_count": 66,
   "metadata": {},
   "outputs": [],
   "source": [
    "start_yr = 1996\n",
    "\n",
    "#df = pd.DataFrame()\n",
    "\n",
    "for year_num in range(4):\n",
    "    this_year_stats = rush_rec_table.find(\"tr\", {\"id\": \"rushing_and_receiving.\"+str(start_yr+year_num)})\n",
    "    \n",
    "    if not this_year_stats:\n",
    "        # placeholder\n",
    "        print(start_yr+year_num)\n",
    "        continue\n",
    "        \n",
    "    \n",
    "    for datum in this_year_stats.find_all(\"td\"):\n",
    "        shorter = str(datum).split(\"data-stat\")[1]\n",
    "        stat_name = shorter.split('\"')[1]\n",
    "        # TODO: add ProBowl in year x and All Pro in year x\n",
    "        \n",
    "        try:\n",
    "            if stat_name ==\"team\":\n",
    "                data = shorter.split('title=\"')[1].split('\"')[0]\n",
    "            else:\n",
    "                data = shorter.split(\">\")[1].split(\"<\")[0]\n",
    "\n",
    "            if stat_name ==\"team\" or stat_name == \"pos\":\n",
    "                df[stat_name+\"_\"+str(year_num)] = [data.upper()]\n",
    "            else:\n",
    "                if stat_name == \"catch_pct\":\n",
    "                    data = data.split(\"%\")[0]\n",
    "\n",
    "                df[stat_name+\"_\"+str(year_num)] = [float(data)]\n",
    "        except:\n",
    "            df[stat_name+\"_\"+str(year_num)] =\"?\"\n",
    "            \n",
    "            \n",
    "    if not player.pro_accolades:\n",
    "        get_pro_accolades(this_year_stats, year_num, df, player)\n"
   ]
  },
  {
   "cell_type": "code",
   "execution_count": 67,
   "metadata": {},
   "outputs": [
    {
     "data": {
      "text/html": [
       "<div>\n",
       "<table border=\"1\" class=\"dataframe\">\n",
       "  <thead>\n",
       "    <tr style=\"text-align: right;\">\n",
       "      <th></th>\n",
       "      <th>age_0</th>\n",
       "      <th>team_0</th>\n",
       "      <th>pos_0</th>\n",
       "      <th>uniform_number_0</th>\n",
       "      <th>g_0</th>\n",
       "      <th>gs_0</th>\n",
       "      <th>rush_att_0</th>\n",
       "      <th>rush_yds_0</th>\n",
       "      <th>rush_td_0</th>\n",
       "      <th>rush_long_0</th>\n",
       "      <th>...</th>\n",
       "      <th>rec_yds_per_rec_3</th>\n",
       "      <th>rec_td_3</th>\n",
       "      <th>rec_long_3</th>\n",
       "      <th>rec_per_g_3</th>\n",
       "      <th>rec_yds_per_g_3</th>\n",
       "      <th>catch_pct_3</th>\n",
       "      <th>yds_from_scrimmage_3</th>\n",
       "      <th>rush_receive_td_3</th>\n",
       "      <th>fumbles_3</th>\n",
       "      <th>av_3</th>\n",
       "    </tr>\n",
       "  </thead>\n",
       "  <tbody>\n",
       "    <tr>\n",
       "      <th>0</th>\n",
       "      <td>22.0</td>\n",
       "      <td>MIAMI DOLPHINS</td>\n",
       "      <td>RB</td>\n",
       "      <td>33.0</td>\n",
       "      <td>16.0</td>\n",
       "      <td>14.0</td>\n",
       "      <td>307.0</td>\n",
       "      <td>1116.0</td>\n",
       "      <td>11.0</td>\n",
       "      <td>29.0</td>\n",
       "      <td>...</td>\n",
       "      <td>4.9</td>\n",
       "      <td>1.0</td>\n",
       "      <td>21.0</td>\n",
       "      <td>1.3</td>\n",
       "      <td>6.5</td>\n",
       "      <td>77.3</td>\n",
       "      <td>529.0</td>\n",
       "      <td>2.0</td>\n",
       "      <td>0.0</td>\n",
       "      <td>4.0</td>\n",
       "    </tr>\n",
       "  </tbody>\n",
       "</table>\n",
       "<p>1 rows × 104 columns</p>\n",
       "</div>"
      ],
      "text/plain": [
       "   age_0          team_0 pos_0  uniform_number_0   g_0  gs_0  rush_att_0  \\\n",
       "0   22.0  MIAMI DOLPHINS    RB              33.0  16.0  14.0       307.0   \n",
       "\n",
       "   rush_yds_0  rush_td_0  rush_long_0  ...   rec_yds_per_rec_3  rec_td_3  \\\n",
       "0      1116.0       11.0         29.0  ...                 4.9       1.0   \n",
       "\n",
       "   rec_long_3  rec_per_g_3  rec_yds_per_g_3  catch_pct_3  \\\n",
       "0        21.0          1.3              6.5         77.3   \n",
       "\n",
       "   yds_from_scrimmage_3  rush_receive_td_3  fumbles_3  av_3  \n",
       "0                 529.0                2.0        0.0   4.0  \n",
       "\n",
       "[1 rows x 104 columns]"
      ]
     },
     "execution_count": 67,
     "metadata": {},
     "output_type": "execute_result"
    }
   ],
   "source": [
    "df"
   ]
  },
  {
   "cell_type": "code",
   "execution_count": 55,
   "metadata": {},
   "outputs": [],
   "source": [
    "rush_rec_table.find(\"tr\", {\"id\": \"rushing_and_receiving.2016\"})"
   ]
  },
  {
   "cell_type": "markdown",
   "metadata": {},
   "source": [
    "# Thoughts on structure:\n",
    "\n",
    "We need to figure out what we want to do once we have this category df, we want to concat this into a larger df for a player. Once all categories are handled, we want to write this to a csv. All players only see their own df, but the write to csv function make the actual one we will use for ML"
   ]
  },
  {
   "cell_type": "code",
   "execution_count": null,
   "metadata": {},
   "outputs": [],
   "source": []
  }
 ],
 "metadata": {
  "kernelspec": {
   "display_name": "Python 3",
   "language": "python",
   "name": "python3"
  },
  "language_info": {
   "codemirror_mode": {
    "name": "ipython",
    "version": 3
   },
   "file_extension": ".py",
   "mimetype": "text/x-python",
   "name": "python",
   "nbconvert_exporter": "python",
   "pygments_lexer": "ipython3",
   "version": "3.6.0"
  }
 },
 "nbformat": 4,
 "nbformat_minor": 2
}
